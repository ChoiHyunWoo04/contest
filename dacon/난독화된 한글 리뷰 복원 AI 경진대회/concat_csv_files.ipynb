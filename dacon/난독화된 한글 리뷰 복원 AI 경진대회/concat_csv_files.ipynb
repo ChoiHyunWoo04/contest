{
 "cells": [
  {
   "cell_type": "code",
   "execution_count": 1,
   "id": "a72bdd11-d6b5-4171-988a-84c04c1b39bf",
   "metadata": {
    "scrolled": true
   },
   "outputs": [],
   "source": [
    "import pandas as pd\n",
    "import glob\n",
    "\n",
    "# CSV 파일들이 있는 폴더 경로\n",
    "folder_path = \"./generated_files/\"  # CSV 파일이 있는 폴더 경로\n",
    "\n",
    "# 모든 CSV 파일 경로 가져오기\n",
    "csv_files = glob.glob(folder_path + \"*.csv\")\n",
    "\n",
    "df_list = []\n",
    "\n",
    "for file in csv_files:\n",
    "    df = pd.read_csv(file, encoding='utf-8-sig')\n",
    "    df_list.append(df)\n",
    "\n",
    "# 행 기준으로 합치기\n",
    "merged_df = pd.concat(df_list, ignore_index=True)\n",
    "\n",
    "# 합쳐진 데이터 저장\n",
    "merged_df.to_csv(\"./data/augmentation(generation).csv\", index=False, encoding = 'utf-8-sig')"
   ]
  },
  {
   "cell_type": "code",
   "execution_count": null,
   "id": "4f0b8311-5e03-4da5-bf0c-1c47dc6c7af8",
   "metadata": {},
   "outputs": [],
   "source": []
  }
 ],
 "metadata": {
  "kernelspec": {
   "display_name": "torch_env",
   "language": "python",
   "name": "torch_env"
  },
  "language_info": {
   "codemirror_mode": {
    "name": "ipython",
    "version": 3
   },
   "file_extension": ".py",
   "mimetype": "text/x-python",
   "name": "python",
   "nbconvert_exporter": "python",
   "pygments_lexer": "ipython3",
   "version": "3.12.9"
  }
 },
 "nbformat": 4,
 "nbformat_minor": 5
}
