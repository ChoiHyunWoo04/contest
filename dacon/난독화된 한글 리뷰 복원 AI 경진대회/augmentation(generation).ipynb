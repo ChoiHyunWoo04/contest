{
 "cells": [
  {
   "cell_type": "code",
   "execution_count": 1,
   "id": "b38c2ff9-9484-493c-8639-adee7e0bdd24",
   "metadata": {
    "scrolled": true
   },
   "outputs": [],
   "source": [
    "import pandas as pd\n",
    "\n",
    "df = pd.read_csv('./data/train_with_shuffle_augmentation.csv', encoding = 'utf-8-sig')\n",
    "augmented_df = pd.read_csv('./data/augmentation(generation).csv', encoding = 'utf-8-sig')\n",
    "\n",
    "train_df = pd.concat([df, augmented_df], ignore_index=True)        "
   ]
  },
  {
   "cell_type": "code",
   "execution_count": 2,
   "id": "56874591-e041-40aa-815f-5d7e081003f6",
   "metadata": {
    "scrolled": true
   },
   "outputs": [],
   "source": [
    "unsaved_indices = []\n",
    "\n",
    "for i in range(len(augmented_df)):\n",
    "    for idx, (c1, c2) in enumerate(zip(augmented_df['output'][i], augmented_df['input'][i])):\n",
    "        if (c1 == ' ') != (c2 == ' '):\n",
    "            if i not in unsaved_indices:\n",
    "                print(f\"index {i} error occured\")\n",
    "                unsaved_indices.append(i)\n",
    "            break"
   ]
  },
  {
   "cell_type": "code",
   "execution_count": 4,
   "id": "9d49b034-bd93-4fe4-bc8d-758dc507c5a3",
   "metadata": {},
   "outputs": [],
   "source": [
    "df = df.drop(unsaved_indices)"
   ]
  },
  {
   "cell_type": "code",
   "execution_count": 5,
   "id": "2e311807-3bc6-45cb-aeae-eaaaeb2c7aa4",
   "metadata": {},
   "outputs": [],
   "source": [
    "df_shuffled = train_df.sample(frac=1, random_state=42).reset_index(drop=True)"
   ]
  },
  {
   "cell_type": "code",
   "execution_count": 6,
   "id": "9521fd8b-6b6c-4324-b695-1a4ce7a3b070",
   "metadata": {},
   "outputs": [],
   "source": [
    "df_shuffled.to_csv('./data/train_with_shuffle_generation_augmentation.csv', index = False, encoding = 'utf-8-sig')"
   ]
  },
  {
   "cell_type": "code",
   "execution_count": 7,
   "id": "789b256c-11e3-4bbc-a050-93dde5db67ee",
   "metadata": {},
   "outputs": [
    {
     "data": {
      "text/html": [
       "<div>\n",
       "<style scoped>\n",
       "    .dataframe tbody tr th:only-of-type {\n",
       "        vertical-align: middle;\n",
       "    }\n",
       "\n",
       "    .dataframe tbody tr th {\n",
       "        vertical-align: top;\n",
       "    }\n",
       "\n",
       "    .dataframe thead th {\n",
       "        text-align: right;\n",
       "    }\n",
       "</style>\n",
       "<table border=\"1\" class=\"dataframe\">\n",
       "  <thead>\n",
       "    <tr style=\"text-align: right;\">\n",
       "      <th></th>\n",
       "      <th>ID</th>\n",
       "      <th>input</th>\n",
       "      <th>output</th>\n",
       "    </tr>\n",
       "  </thead>\n",
       "  <tbody>\n",
       "    <tr>\n",
       "      <th>0</th>\n",
       "      <td>NaN</td>\n",
       "      <td>졔갼 풀먼층윕 쫌 위섰눈떼 헤운때 얇켱 봄먼셔 옻랜많녜 꿀쟘 잡ㅎ.</td>\n",
       "      <td>제가 불면증이 좀 있었는데 해운대 야경 보면서 오랜만에 꿀잠 잡ㅎ.</td>\n",
       "    </tr>\n",
       "    <tr>\n",
       "      <th>1</th>\n",
       "      <td>TRAIN_09549</td>\n",
       "      <td>광얀떼꾜 뿌 쬠코! 엌깅 삶레.</td>\n",
       "      <td>광안대교 뷰 최고! 여기 살래.</td>\n",
       "    </tr>\n",
       "    <tr>\n",
       "      <th>2</th>\n",
       "      <td>NaN</td>\n",
       "      <td>청맒 몃쥔 홉뗄. 쭐먈 슉팍익랄 캭걱입 처럼햐친 안앝찜많, 굶레됴 약깝찌 안댜.</td>\n",
       "      <td>정말 멋진 호텔. 주말 숙박이라 가격이 저렴하진 않았지만, 그래도 아깝지 않다.</td>\n",
       "    </tr>\n",
       "    <tr>\n",
       "      <th>3</th>\n",
       "      <td>NaN</td>\n",
       "      <td>쬐약위 켐핑쟝, 옳랫뙨 싣섦, 싸읽투 갼걱입 넒취 안꼬, 관뤽갈 영먕읾. 피츙</td>\n",
       "      <td>최악의 캠핑장, 오래된 시설, 사이트 간격이 넓지 않고, 관리가 엉망임. 비추</td>\n",
       "    </tr>\n",
       "    <tr>\n",
       "      <th>4</th>\n",
       "      <td>NaN</td>\n",
       "      <td>쿡네 율읾 6썽굽인 쫏썬걍냠뺄릿슥눈 쏙구몸 볏천윙 욧썬퓰략골 폼면 됩닢댜. 껄쿡 2...</td>\n",
       "      <td>국내 유일 6성급인 조선강남팰리스는 소규모 버전의 오션뷰라고 보면 됩니다. 결국 2...</td>\n",
       "    </tr>\n",
       "    <tr>\n",
       "      <th>...</th>\n",
       "      <td>...</td>\n",
       "      <td>...</td>\n",
       "      <td>...</td>\n",
       "    </tr>\n",
       "    <tr>\n",
       "      <th>50495</th>\n",
       "      <td>NaN</td>\n",
       "      <td>쭝문 촉 면쥐야 쩡숄학귑 힘든 붙뿐인닉카 구렇단 찔 슛토 잊궷침만, 텔윕블 얄렌는 ...</td>\n",
       "      <td>중문 쪽 먼지야 청소하기 힘든 부분이니까 그렇다 칠 수도 있겠지만, 테이블 아래는 ...</td>\n",
       "    </tr>\n",
       "    <tr>\n",
       "      <th>50496</th>\n",
       "      <td>NaN</td>\n",
       "      <td>쑥뱍 3윈엘 좆쉭 3위눈롱 예아캤눈뎨 쑥뱍잊 2윈울료 뙤억 잊서써 1위늚 축갸한닒 ...</td>\n",
       "      <td>숙박 3인에 조식 3인으로 예약했는데 숙박이 2인으로 되어 있어서 1인을 추가하니 ...</td>\n",
       "    </tr>\n",
       "    <tr>\n",
       "      <th>50497</th>\n",
       "      <td>NaN</td>\n",
       "      <td>륨 껀띠션은 별롤웨오.</td>\n",
       "      <td>룸 컨디션은 별로에요.</td>\n",
       "    </tr>\n",
       "    <tr>\n",
       "      <th>50498</th>\n",
       "      <td>TRAIN_00860</td>\n",
       "      <td>냐룸 초용햐교 변짭합쥐 앉운 콩쉼면섦또 츄편웨 씩땅들림 적땅휘 윗서써 탁 좋앝숲뉘타</td>\n",
       "      <td>나름 조용하고 번잡하지 않은 곳이면서도 주변에 식당들이 적당히 있어서 딱 좋았습니다</td>\n",
       "    </tr>\n",
       "    <tr>\n",
       "      <th>50499</th>\n",
       "      <td>NaN</td>\n",
       "      <td>쭈욜 콴꽝취옛셔 걸뤽갼 잃슨낟 장까옹위 윗승면 웬만한 쇽쪼 콴쾅쥐깠찌 5-10푼 쌉...</td>\n",
       "      <td>주요 관광지에서 거리가 있으나 자가용이 있으면 웬만한 속초 관광지까지 5-10분 사...</td>\n",
       "    </tr>\n",
       "  </tbody>\n",
       "</table>\n",
       "<p>50500 rows × 3 columns</p>\n",
       "</div>"
      ],
      "text/plain": [
       "                ID                                              input  \\\n",
       "0              NaN              졔갼 풀먼층윕 쫌 위섰눈떼 헤운때 얇켱 봄먼셔 옻랜많녜 꿀쟘 잡ㅎ.   \n",
       "1      TRAIN_09549                                  광얀떼꾜 뿌 쬠코! 엌깅 삶레.   \n",
       "2              NaN       청맒 몃쥔 홉뗄. 쭐먈 슉팍익랄 캭걱입 처럼햐친 안앝찜많, 굶레됴 약깝찌 안댜.   \n",
       "3              NaN        쬐약위 켐핑쟝, 옳랫뙨 싣섦, 싸읽투 갼걱입 넒취 안꼬, 관뤽갈 영먕읾. 피츙   \n",
       "4              NaN  쿡네 율읾 6썽굽인 쫏썬걍냠뺄릿슥눈 쏙구몸 볏천윙 욧썬퓰략골 폼면 됩닢댜. 껄쿡 2...   \n",
       "...            ...                                                ...   \n",
       "50495          NaN  쭝문 촉 면쥐야 쩡숄학귑 힘든 붙뿐인닉카 구렇단 찔 슛토 잊궷침만, 텔윕블 얄렌는 ...   \n",
       "50496          NaN  쑥뱍 3윈엘 좆쉭 3위눈롱 예아캤눈뎨 쑥뱍잊 2윈울료 뙤억 잊서써 1위늚 축갸한닒 ...   \n",
       "50497          NaN                                       륨 껀띠션은 별롤웨오.   \n",
       "50498  TRAIN_00860     냐룸 초용햐교 변짭합쥐 앉운 콩쉼면섦또 츄편웨 씩땅들림 적땅휘 윗서써 탁 좋앝숲뉘타   \n",
       "50499          NaN  쭈욜 콴꽝취옛셔 걸뤽갼 잃슨낟 장까옹위 윗승면 웬만한 쇽쪼 콴쾅쥐깠찌 5-10푼 쌉...   \n",
       "\n",
       "                                                  output  \n",
       "0                  제가 불면증이 좀 있었는데 해운대 야경 보면서 오랜만에 꿀잠 잡ㅎ.  \n",
       "1                                      광안대교 뷰 최고! 여기 살래.  \n",
       "2           정말 멋진 호텔. 주말 숙박이라 가격이 저렴하진 않았지만, 그래도 아깝지 않다.  \n",
       "3            최악의 캠핑장, 오래된 시설, 사이트 간격이 넓지 않고, 관리가 엉망임. 비추  \n",
       "4      국내 유일 6성급인 조선강남팰리스는 소규모 버전의 오션뷰라고 보면 됩니다. 결국 2...  \n",
       "...                                                  ...  \n",
       "50495  중문 쪽 먼지야 청소하기 힘든 부분이니까 그렇다 칠 수도 있겠지만, 테이블 아래는 ...  \n",
       "50496  숙박 3인에 조식 3인으로 예약했는데 숙박이 2인으로 되어 있어서 1인을 추가하니 ...  \n",
       "50497                                       룸 컨디션은 별로에요.  \n",
       "50498     나름 조용하고 번잡하지 않은 곳이면서도 주변에 식당들이 적당히 있어서 딱 좋았습니다  \n",
       "50499  주요 관광지에서 거리가 있으나 자가용이 있으면 웬만한 속초 관광지까지 5-10분 사...  \n",
       "\n",
       "[50500 rows x 3 columns]"
      ]
     },
     "execution_count": 7,
     "metadata": {},
     "output_type": "execute_result"
    }
   ],
   "source": [
    "df_shuffled"
   ]
  },
  {
   "cell_type": "code",
   "execution_count": null,
   "id": "22bf53f0-c3eb-4a98-ba2e-723319027923",
   "metadata": {},
   "outputs": [],
   "source": []
  }
 ],
 "metadata": {
  "kernelspec": {
   "display_name": "torch_env",
   "language": "python",
   "name": "torch_env"
  },
  "language_info": {
   "codemirror_mode": {
    "name": "ipython",
    "version": 3
   },
   "file_extension": ".py",
   "mimetype": "text/x-python",
   "name": "python",
   "nbconvert_exporter": "python",
   "pygments_lexer": "ipython3",
   "version": "3.12.9"
  }
 },
 "nbformat": 4,
 "nbformat_minor": 5
}
