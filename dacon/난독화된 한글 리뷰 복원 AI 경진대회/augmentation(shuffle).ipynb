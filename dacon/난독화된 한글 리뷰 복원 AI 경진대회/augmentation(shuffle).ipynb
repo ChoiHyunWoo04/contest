{
 "cells": [
  {
   "cell_type": "code",
   "execution_count": 1,
   "id": "10298d91-ecfc-4829-b995-777a3920516c",
   "metadata": {},
   "outputs": [],
   "source": [
    "import pandas as pd\n",
    "import random"
   ]
  },
  {
   "cell_type": "code",
   "execution_count": 2,
   "id": "afbb97f7-6630-4bef-adc9-58d90b946281",
   "metadata": {},
   "outputs": [],
   "source": [
    "df = pd.read_csv('./data/train.csv')"
   ]
  },
  {
   "cell_type": "code",
   "execution_count": 3,
   "id": "a38b1695-9e97-473b-8ed7-3c7ce7aa95c8",
   "metadata": {},
   "outputs": [],
   "source": [
    "# 문장 순서를 섞는 함수\n",
    "def shuffle_sentences(text):\n",
    "    sentences = text.split('. ')\n",
    "    if sentences[-1].endswith('.'):\n",
    "        sentences[-1] = sentences[-1][:-1]  # 마지막 문장의 마침표 제거\n",
    "    random.shuffle(sentences)\n",
    "    return sentences"
   ]
  },
  {
   "cell_type": "code",
   "execution_count": 4,
   "id": "88d72822-1926-4c20-87dc-01eec4c041da",
   "metadata": {},
   "outputs": [],
   "source": [
    "# 증강 데이터 저장 리스트\n",
    "augmented_data = []\n",
    "\n",
    "# 데이터프레임 순회하며 증강\n",
    "for _ in range(3):\n",
    "    for idx, row in df.iterrows():\n",
    "        if row['input'].endswith('.'):\n",
    "            row['input'] = row['input'][:-1]\n",
    "            row['output'] = row['output'][:-1]\n",
    "            \n",
    "        # input과 output 문장 순서 동기화\n",
    "        paired_sentences = list(zip(row['input'].split('. '), row['output'].split('. ')))\n",
    "        random.shuffle(paired_sentences)\n",
    "        \n",
    "        augmented_input = '. '.join([pair[0] for pair in paired_sentences]) + '.'\n",
    "        augmented_output = '. '.join([pair[1] for pair in paired_sentences]) + '.'\n",
    "        \n",
    "        augmented_data.append({'input': augmented_input, 'output': augmented_output})\n",
    "\n",
    "# 증강 데이터프레임 생성\n",
    "augmented_df = pd.DataFrame(augmented_data)\n",
    "\n",
    "augmented_df = augmented_df.drop_duplicates()"
   ]
  },
  {
   "cell_type": "code",
   "execution_count": 5,
   "id": "194ec072-764f-45c7-84a0-285f3c9a00cb",
   "metadata": {},
   "outputs": [
    {
     "name": "stdout",
     "output_type": "stream",
     "text": [
      "                                                   input  \\\n",
      "0      깸삥읊 20여 년 댜녁뵨 곧 중 쩨윌 귑푼 낙팠떤 곶. 별 한 게토 았깝땀. 야뭍툰...   \n",
      "1                                잚많 쟉꼬 갉 태 좋눼욥. 차못동 줆 ㅋ.   \n",
      "2                                       절테 간면 않 된는 굣 멥몫.   \n",
      "3      샥퀘 핥류만 묵겠댜! 한눈 쌀람한뗌많 쭈쳔. 놂랙팡엣셔 칵좋 닮패왕 윳흥예 천렸욹 ...   \n",
      "4      예얌끼 여렵쮜만 ^^. 뱌룡 옆뻬 뼈뉘쩜믿 윗썰써 펀리헷숲닢댜. 쩌럼한뒈 뮬콰 욺료...   \n",
      "...                                                  ...   \n",
      "33769  챵문읊 열엊 툭쿄 한짬 쥔낡돕 얀 뺘침... 듀 변운 얀 욜 둣. 칵격옙 피해 팡운...   \n",
      "33774  긷켸씩 탸월 츔짭짱위랒 츄짜 푿닮톰 엾씁뉘댜. 9쭝 흡뻔 뗄랴슬 탬뮨예 땄쉬 틀릭꼬...   \n",
      "33780  싼첵콰 묽놀윅걍 칸눙햐따. 툿쑥껙 빼틀뵤트(3많 원) 롄딸 20% 하륀. 숀낢뭉 숩...   \n",
      "33783  찐철핫싯꼬 찐짬 넒문 캑꿋헤욘. 면찌 하냐 엽코 잎쿱붙텨 팠닥위 뱐짝판착행오. 쎄얽...   \n",
      "33784  냠멎쥔는 쑈소. 외 섀 찢숄예써 찔약 넴쌜갓 냐눈쮜 찝찝페셧 딸론 쿠위뺏섶 섞섭오....   \n",
      "\n",
      "                                                  output  \n",
      "0      캠핑을 20여 년 다녀본 곳 중 제일 기분 나빴던 곳. 별 한 개도 아깝다. 아무튼...  \n",
      "1                                잠만 자고 갈 때 좋네요. 잠옷도 줌 ㅋ.  \n",
      "2                                       절대 가면 안 되는 곳 메모.  \n",
      "3      싸게 하루만 묵겠다! 하는 사람한테만 추천. 노래방에서 각종 담배와 유흥에 쩔었을 ...  \n",
      "4      예약이 어렵지만 ^^. 바로 옆에 편의점이 있어서 편리했습니다. 저렴한데 물과 음료...  \n",
      "...                                                  ...  \n",
      "33769  창문을 열어 두고 한참 지나도 안 빠짐... 두 번은 안 올 듯. 가격에 비해 방은...  \n",
      "33774  기계식 타워 주차장이라 주차 부담도 없습니다. 9층 흡연 테라스 때문에 다시 들리고...  \n",
      "33780  산책과 물놀이가 가능하다. 투숙객 패들보드(3만 원) 렌탈 20% 할인. 소나무 숲...  \n",
      "33783  친절하시고 진짜 너무 깨끗해요. 먼지 하나 없고 입구부터 바닥이 반짝반짝해요. 세월...  \n",
      "33784  나머지는 쏘쏘. 왜 새 칫솔에서 치약 냄새가 나는지 찝찝해서 따로 구입해서 썼어요....  \n",
      "\n",
      "[21673 rows x 2 columns]\n"
     ]
    }
   ],
   "source": [
    "print(augmented_df)"
   ]
  },
  {
   "cell_type": "code",
   "execution_count": 6,
   "id": "f5a81163-4492-44b3-9de4-c6072d410571",
   "metadata": {},
   "outputs": [],
   "source": [
    "augmented_df.to_csv('./data/shuffle_augmentation.csv', index = False, encoding = 'utf-8-sig')"
   ]
  },
  {
   "cell_type": "code",
   "execution_count": 7,
   "id": "6d951370-14e1-4ebc-a15f-6f042cd5b1be",
   "metadata": {},
   "outputs": [],
   "source": [
    "# 기존 train 데이터셋과 증강 데이터셋 결합\n",
    "train_df = pd.concat([df, augmented_df], ignore_index=True).drop_duplicates()"
   ]
  },
  {
   "cell_type": "code",
   "execution_count": 8,
   "id": "b786ac1b-9971-469d-9c80-1a7294a0a40c",
   "metadata": {},
   "outputs": [
    {
     "data": {
      "text/html": [
       "<div>\n",
       "<style scoped>\n",
       "    .dataframe tbody tr th:only-of-type {\n",
       "        vertical-align: middle;\n",
       "    }\n",
       "\n",
       "    .dataframe tbody tr th {\n",
       "        vertical-align: top;\n",
       "    }\n",
       "\n",
       "    .dataframe thead th {\n",
       "        text-align: right;\n",
       "    }\n",
       "</style>\n",
       "<table border=\"1\" class=\"dataframe\">\n",
       "  <thead>\n",
       "    <tr style=\"text-align: right;\">\n",
       "      <th></th>\n",
       "      <th>ID</th>\n",
       "      <th>input</th>\n",
       "      <th>output</th>\n",
       "    </tr>\n",
       "  </thead>\n",
       "  <tbody>\n",
       "    <tr>\n",
       "      <th>0</th>\n",
       "      <td>TRAIN_00000</td>\n",
       "      <td>별 한 게토 았깝땀. 왜 싸람듯릭 펼 1캐를 쥰눈징 컥꺾폰 싸람믐롯섞 맒록 섧멍핥쟈...</td>\n",
       "      <td>별 한 개도 아깝다. 왜 사람들이 별 1개를 주는지 겪어본 사람으로서 말로 설명하자...</td>\n",
       "    </tr>\n",
       "    <tr>\n",
       "      <th>1</th>\n",
       "      <td>TRAIN_00001</td>\n",
       "      <td>잚많 쟉꼬 갉 태 좋눼욥. 차못동 줆 ㅋ</td>\n",
       "      <td>잠만 자고 갈 때 좋네요. 잠옷도 줌 ㅋ</td>\n",
       "    </tr>\n",
       "    <tr>\n",
       "      <th>2</th>\n",
       "      <td>TRAIN_00002</td>\n",
       "      <td>절테 간면 않 된는 굣 멥몫</td>\n",
       "      <td>절대 가면 안 되는 곳 메모</td>\n",
       "    </tr>\n",
       "    <tr>\n",
       "      <th>3</th>\n",
       "      <td>TRAIN_00003</td>\n",
       "      <td>야... 칵컥 좋꾜 부됴 뼝 뚫렷썹 신원햐쥠만 닮패 넴센 밌쪄벅림. 샥퀘 핥류만 묵...</td>\n",
       "      <td>아... 가격 좋고 뷰도 뻥 뚫려서 시원하지만 담배 냄새 미쳐버림. 싸게 하루만 묵...</td>\n",
       "    </tr>\n",
       "    <tr>\n",
       "      <th>4</th>\n",
       "      <td>TRAIN_00004</td>\n",
       "      <td>집윈 축쳐눌료 딴너왓눈뎁 카셩뷔 좋곱 칼쿰한네올. 쩌럼한뒈 뮬콰 욺료토 잊쿄 빻토 ...</td>\n",
       "      <td>지인 추천으로 다녀왔는데 가성비 좋고 깔끔하네요. 저렴한데 물과 음료도 있고 방도 ...</td>\n",
       "    </tr>\n",
       "    <tr>\n",
       "      <th>...</th>\n",
       "      <td>...</td>\n",
       "      <td>...</td>\n",
       "      <td>...</td>\n",
       "    </tr>\n",
       "    <tr>\n",
       "      <th>32931</th>\n",
       "      <td>NaN</td>\n",
       "      <td>챵문읊 열엊 툭쿄 한짬 쥔낡돕 얀 뺘침... 듀 변운 얀 욜 둣. 칵격옙 피해 팡운...</td>\n",
       "      <td>창문을 열어 두고 한참 지나도 안 빠짐... 두 번은 안 올 듯. 가격에 비해 방은...</td>\n",
       "    </tr>\n",
       "    <tr>\n",
       "      <th>32932</th>\n",
       "      <td>NaN</td>\n",
       "      <td>긷켸씩 탸월 츔짭짱위랒 츄짜 푿닮톰 엾씁뉘댜. 9쭝 흡뻔 뗄랴슬 탬뮨예 땄쉬 틀릭꼬...</td>\n",
       "      <td>기계식 타워 주차장이라 주차 부담도 없습니다. 9층 흡연 테라스 때문에 다시 들리고...</td>\n",
       "    </tr>\n",
       "    <tr>\n",
       "      <th>32933</th>\n",
       "      <td>NaN</td>\n",
       "      <td>싼첵콰 묽놀윅걍 칸눙햐따. 툿쑥껙 빼틀뵤트(3많 원) 롄딸 20% 하륀. 숀낢뭉 숩...</td>\n",
       "      <td>산책과 물놀이가 가능하다. 투숙객 패들보드(3만 원) 렌탈 20% 할인. 소나무 숲...</td>\n",
       "    </tr>\n",
       "    <tr>\n",
       "      <th>32934</th>\n",
       "      <td>NaN</td>\n",
       "      <td>찐철핫싯꼬 찐짬 넒문 캑꿋헤욘. 면찌 하냐 엽코 잎쿱붙텨 팠닥위 뱐짝판착행오. 쎄얽...</td>\n",
       "      <td>친절하시고 진짜 너무 깨끗해요. 먼지 하나 없고 입구부터 바닥이 반짝반짝해요. 세월...</td>\n",
       "    </tr>\n",
       "    <tr>\n",
       "      <th>32935</th>\n",
       "      <td>NaN</td>\n",
       "      <td>냠멎쥔는 쑈소. 외 섀 찢숄예써 찔약 넴쌜갓 냐눈쮜 찝찝페셧 딸론 쿠위뺏섶 섞섭오....</td>\n",
       "      <td>나머지는 쏘쏘. 왜 새 칫솔에서 치약 냄새가 나는지 찝찝해서 따로 구입해서 썼어요....</td>\n",
       "    </tr>\n",
       "  </tbody>\n",
       "</table>\n",
       "<p>32936 rows × 3 columns</p>\n",
       "</div>"
      ],
      "text/plain": [
       "                ID                                              input  \\\n",
       "0      TRAIN_00000  별 한 게토 았깝땀. 왜 싸람듯릭 펼 1캐를 쥰눈징 컥꺾폰 싸람믐롯섞 맒록 섧멍핥쟈...   \n",
       "1      TRAIN_00001                             잚많 쟉꼬 갉 태 좋눼욥. 차못동 줆 ㅋ   \n",
       "2      TRAIN_00002                                    절테 간면 않 된는 굣 멥몫   \n",
       "3      TRAIN_00003  야... 칵컥 좋꾜 부됴 뼝 뚫렷썹 신원햐쥠만 닮패 넴센 밌쪄벅림. 샥퀘 핥류만 묵...   \n",
       "4      TRAIN_00004  집윈 축쳐눌료 딴너왓눈뎁 카셩뷔 좋곱 칼쿰한네올. 쩌럼한뒈 뮬콰 욺료토 잊쿄 빻토 ...   \n",
       "...            ...                                                ...   \n",
       "32931          NaN  챵문읊 열엊 툭쿄 한짬 쥔낡돕 얀 뺘침... 듀 변운 얀 욜 둣. 칵격옙 피해 팡운...   \n",
       "32932          NaN  긷켸씩 탸월 츔짭짱위랒 츄짜 푿닮톰 엾씁뉘댜. 9쭝 흡뻔 뗄랴슬 탬뮨예 땄쉬 틀릭꼬...   \n",
       "32933          NaN  싼첵콰 묽놀윅걍 칸눙햐따. 툿쑥껙 빼틀뵤트(3많 원) 롄딸 20% 하륀. 숀낢뭉 숩...   \n",
       "32934          NaN  찐철핫싯꼬 찐짬 넒문 캑꿋헤욘. 면찌 하냐 엽코 잎쿱붙텨 팠닥위 뱐짝판착행오. 쎄얽...   \n",
       "32935          NaN  냠멎쥔는 쑈소. 외 섀 찢숄예써 찔약 넴쌜갓 냐눈쮜 찝찝페셧 딸론 쿠위뺏섶 섞섭오....   \n",
       "\n",
       "                                                  output  \n",
       "0      별 한 개도 아깝다. 왜 사람들이 별 1개를 주는지 겪어본 사람으로서 말로 설명하자...  \n",
       "1                                 잠만 자고 갈 때 좋네요. 잠옷도 줌 ㅋ  \n",
       "2                                        절대 가면 안 되는 곳 메모  \n",
       "3      아... 가격 좋고 뷰도 뻥 뚫려서 시원하지만 담배 냄새 미쳐버림. 싸게 하루만 묵...  \n",
       "4      지인 추천으로 다녀왔는데 가성비 좋고 깔끔하네요. 저렴한데 물과 음료도 있고 방도 ...  \n",
       "...                                                  ...  \n",
       "32931  창문을 열어 두고 한참 지나도 안 빠짐... 두 번은 안 올 듯. 가격에 비해 방은...  \n",
       "32932  기계식 타워 주차장이라 주차 부담도 없습니다. 9층 흡연 테라스 때문에 다시 들리고...  \n",
       "32933  산책과 물놀이가 가능하다. 투숙객 패들보드(3만 원) 렌탈 20% 할인. 소나무 숲...  \n",
       "32934  친절하시고 진짜 너무 깨끗해요. 먼지 하나 없고 입구부터 바닥이 반짝반짝해요. 세월...  \n",
       "32935  나머지는 쏘쏘. 왜 새 칫솔에서 치약 냄새가 나는지 찝찝해서 따로 구입해서 썼어요....  \n",
       "\n",
       "[32936 rows x 3 columns]"
      ]
     },
     "execution_count": 8,
     "metadata": {},
     "output_type": "execute_result"
    }
   ],
   "source": [
    "train_df"
   ]
  },
  {
   "cell_type": "code",
   "execution_count": 9,
   "id": "b557d507-e968-46b9-a232-949420af2183",
   "metadata": {},
   "outputs": [],
   "source": [
    "train_df.to_csv('./data/train_with_shuffle_augmentation.csv', index = False, encoding = 'utf-8-sig')"
   ]
  },
  {
   "cell_type": "code",
   "execution_count": null,
   "id": "4a1bef43-47db-47aa-94b5-7fa103af03cc",
   "metadata": {},
   "outputs": [],
   "source": []
  }
 ],
 "metadata": {
  "kernelspec": {
   "display_name": "Python 3 (ipykernel)",
   "language": "python",
   "name": "python3"
  },
  "language_info": {
   "codemirror_mode": {
    "name": "ipython",
    "version": 3
   },
   "file_extension": ".py",
   "mimetype": "text/x-python",
   "name": "python",
   "nbconvert_exporter": "python",
   "pygments_lexer": "ipython3",
   "version": "3.12.9"
  }
 },
 "nbformat": 4,
 "nbformat_minor": 5
}
