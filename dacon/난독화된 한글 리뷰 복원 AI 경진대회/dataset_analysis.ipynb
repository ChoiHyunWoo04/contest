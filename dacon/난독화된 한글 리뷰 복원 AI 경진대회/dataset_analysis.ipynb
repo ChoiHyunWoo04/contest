{
 "cells": [
  {
   "cell_type": "code",
   "execution_count": 1,
   "id": "7a88ff1c-5736-4d58-ab02-3943de178028",
   "metadata": {},
   "outputs": [],
   "source": [
    "import pandas as pd"
   ]
  },
  {
   "cell_type": "code",
   "execution_count": 2,
   "id": "fdad5d2b-daba-4c96-9c3f-5518a621c02d",
   "metadata": {},
   "outputs": [],
   "source": [
    "# 데이터 로드\n",
    "train = pd.read_csv('./data/train.csv', encoding='utf-8-sig')\n",
    "test = pd.read_csv('./data/test.csv', encoding='utf-8-sig')"
   ]
  },
  {
   "cell_type": "code",
   "execution_count": 3,
   "id": "e1c897bb-39ca-40c3-9512-c24f80068c0a",
   "metadata": {},
   "outputs": [
    {
     "data": {
      "text/html": [
       "<div>\n",
       "<style scoped>\n",
       "    .dataframe tbody tr th:only-of-type {\n",
       "        vertical-align: middle;\n",
       "    }\n",
       "\n",
       "    .dataframe tbody tr th {\n",
       "        vertical-align: top;\n",
       "    }\n",
       "\n",
       "    .dataframe thead th {\n",
       "        text-align: right;\n",
       "    }\n",
       "</style>\n",
       "<table border=\"1\" class=\"dataframe\">\n",
       "  <thead>\n",
       "    <tr style=\"text-align: right;\">\n",
       "      <th></th>\n",
       "      <th>ID</th>\n",
       "      <th>input</th>\n",
       "      <th>output</th>\n",
       "    </tr>\n",
       "  </thead>\n",
       "  <tbody>\n",
       "    <tr>\n",
       "      <th>0</th>\n",
       "      <td>TRAIN_00000</td>\n",
       "      <td>별 한 게토 았깝땀. 왜 싸람듯릭 펼 1캐를 쥰눈징 컥꺾폰 싸람믐롯섞 맒록 섧멍핥쟈...</td>\n",
       "      <td>별 한 개도 아깝다. 왜 사람들이 별 1개를 주는지 겪어본 사람으로서 말로 설명하자...</td>\n",
       "    </tr>\n",
       "    <tr>\n",
       "      <th>1</th>\n",
       "      <td>TRAIN_00001</td>\n",
       "      <td>잚많 쟉꼬 갉 태 좋눼욥. 차못동 줆 ㅋ</td>\n",
       "      <td>잠만 자고 갈 때 좋네요. 잠옷도 줌 ㅋ</td>\n",
       "    </tr>\n",
       "    <tr>\n",
       "      <th>2</th>\n",
       "      <td>TRAIN_00002</td>\n",
       "      <td>절테 간면 않 된는 굣 멥몫</td>\n",
       "      <td>절대 가면 안 되는 곳 메모</td>\n",
       "    </tr>\n",
       "    <tr>\n",
       "      <th>3</th>\n",
       "      <td>TRAIN_00003</td>\n",
       "      <td>야... 칵컥 좋꾜 부됴 뼝 뚫렷썹 신원햐쥠만 닮패 넴센 밌쪄벅림. 샥퀘 핥류만 묵...</td>\n",
       "      <td>아... 가격 좋고 뷰도 뻥 뚫려서 시원하지만 담배 냄새 미쳐버림. 싸게 하루만 묵...</td>\n",
       "    </tr>\n",
       "    <tr>\n",
       "      <th>4</th>\n",
       "      <td>TRAIN_00004</td>\n",
       "      <td>집윈 축쳐눌료 딴너왓눈뎁 카셩뷔 좋곱 칼쿰한네올. 쩌럼한뒈 뮬콰 욺료토 잊쿄 빻토 ...</td>\n",
       "      <td>지인 추천으로 다녀왔는데 가성비 좋고 깔끔하네요. 저렴한데 물과 음료도 있고 방도 ...</td>\n",
       "    </tr>\n",
       "    <tr>\n",
       "      <th>...</th>\n",
       "      <td>...</td>\n",
       "      <td>...</td>\n",
       "      <td>...</td>\n",
       "    </tr>\n",
       "    <tr>\n",
       "      <th>11258</th>\n",
       "      <td>TRAIN_11258</td>\n",
       "      <td>셩슉키 텍많 퓌함먼 될 겯 갔따오. 첵쿠인돈 쪼쉭됴 출 한짬 셩셔오... 냠멎쥔는 ...</td>\n",
       "      <td>성수기 때만 피하면 될 것 같아요. 체크인도 조식도 줄 한참 섰어요... 나머지는 ...</td>\n",
       "    </tr>\n",
       "    <tr>\n",
       "      <th>11259</th>\n",
       "      <td>TRAIN_11259</td>\n",
       "      <td>핫운뜬 홋뗄뤼 낄쩍젓구롯 댜씨 횃쌩햐눈 펍붊 앍렬춘닷. 구태 읗뎃했떤 홀뗄 짙건둘운...</td>\n",
       "      <td>하운드 호텔이 기적적으로 다시 회생하는 법을 알려준다. 그때 응대했던 호텔 직원들은...</td>\n",
       "    </tr>\n",
       "    <tr>\n",
       "      <th>11260</th>\n",
       "      <td>TRAIN_11260</td>\n",
       "      <td>효텔 중 썹삣수값 쬐곤댜만 싸람익 념뭍 많야셔 뭘 핥둔 쉬깎닌 많힙 걸륀댜.</td>\n",
       "      <td>호텔 중 서비스가 최고다만 사람이 너무 많아서 뭘 하든 시간이 많이 걸린다.</td>\n",
       "    </tr>\n",
       "    <tr>\n",
       "      <th>11261</th>\n",
       "      <td>TRAIN_11261</td>\n",
       "      <td>윈떼뤼연왕 칵걱쿤 낮뿌찌 않앝뎐 껏 갇툰뒈, 졺 옹레퇸 눅킴뮈 읽서셔 굵런찌 삵짝 ...</td>\n",
       "      <td>인테리어와 가격은 나쁘지 않았던 것 같은데, 좀 오래된 느낌이 있어서 그런지 살짝 ...</td>\n",
       "    </tr>\n",
       "    <tr>\n",
       "      <th>11262</th>\n",
       "      <td>TRAIN_11262</td>\n",
       "      <td>퓸 긁뤽교 륨셥삣수까 깍껴귐 처럼한 컷쒜 피헤 맏읾쓺. 룸셔뷜슭 움씨굻 멱코 싶뻤서...</td>\n",
       "      <td>뷰 그리고 룸서비스가 가격이 저렴한 것에 비해 맛있음. 룸서비스 음식을 먹고 싶어서...</td>\n",
       "    </tr>\n",
       "  </tbody>\n",
       "</table>\n",
       "<p>11263 rows × 3 columns</p>\n",
       "</div>"
      ],
      "text/plain": [
       "                ID                                              input  \\\n",
       "0      TRAIN_00000  별 한 게토 았깝땀. 왜 싸람듯릭 펼 1캐를 쥰눈징 컥꺾폰 싸람믐롯섞 맒록 섧멍핥쟈...   \n",
       "1      TRAIN_00001                             잚많 쟉꼬 갉 태 좋눼욥. 차못동 줆 ㅋ   \n",
       "2      TRAIN_00002                                    절테 간면 않 된는 굣 멥몫   \n",
       "3      TRAIN_00003  야... 칵컥 좋꾜 부됴 뼝 뚫렷썹 신원햐쥠만 닮패 넴센 밌쪄벅림. 샥퀘 핥류만 묵...   \n",
       "4      TRAIN_00004  집윈 축쳐눌료 딴너왓눈뎁 카셩뷔 좋곱 칼쿰한네올. 쩌럼한뒈 뮬콰 욺료토 잊쿄 빻토 ...   \n",
       "...            ...                                                ...   \n",
       "11258  TRAIN_11258  셩슉키 텍많 퓌함먼 될 겯 갔따오. 첵쿠인돈 쪼쉭됴 출 한짬 셩셔오... 냠멎쥔는 ...   \n",
       "11259  TRAIN_11259  핫운뜬 홋뗄뤼 낄쩍젓구롯 댜씨 횃쌩햐눈 펍붊 앍렬춘닷. 구태 읗뎃했떤 홀뗄 짙건둘운...   \n",
       "11260  TRAIN_11260         효텔 중 썹삣수값 쬐곤댜만 싸람익 념뭍 많야셔 뭘 핥둔 쉬깎닌 많힙 걸륀댜.   \n",
       "11261  TRAIN_11261  윈떼뤼연왕 칵걱쿤 낮뿌찌 않앝뎐 껏 갇툰뒈, 졺 옹레퇸 눅킴뮈 읽서셔 굵런찌 삵짝 ...   \n",
       "11262  TRAIN_11262  퓸 긁뤽교 륨셥삣수까 깍껴귐 처럼한 컷쒜 피헤 맏읾쓺. 룸셔뷜슭 움씨굻 멱코 싶뻤서...   \n",
       "\n",
       "                                                  output  \n",
       "0      별 한 개도 아깝다. 왜 사람들이 별 1개를 주는지 겪어본 사람으로서 말로 설명하자...  \n",
       "1                                 잠만 자고 갈 때 좋네요. 잠옷도 줌 ㅋ  \n",
       "2                                        절대 가면 안 되는 곳 메모  \n",
       "3      아... 가격 좋고 뷰도 뻥 뚫려서 시원하지만 담배 냄새 미쳐버림. 싸게 하루만 묵...  \n",
       "4      지인 추천으로 다녀왔는데 가성비 좋고 깔끔하네요. 저렴한데 물과 음료도 있고 방도 ...  \n",
       "...                                                  ...  \n",
       "11258  성수기 때만 피하면 될 것 같아요. 체크인도 조식도 줄 한참 섰어요... 나머지는 ...  \n",
       "11259  하운드 호텔이 기적적으로 다시 회생하는 법을 알려준다. 그때 응대했던 호텔 직원들은...  \n",
       "11260         호텔 중 서비스가 최고다만 사람이 너무 많아서 뭘 하든 시간이 많이 걸린다.  \n",
       "11261  인테리어와 가격은 나쁘지 않았던 것 같은데, 좀 오래된 느낌이 있어서 그런지 살짝 ...  \n",
       "11262  뷰 그리고 룸서비스가 가격이 저렴한 것에 비해 맛있음. 룸서비스 음식을 먹고 싶어서...  \n",
       "\n",
       "[11263 rows x 3 columns]"
      ]
     },
     "execution_count": 3,
     "metadata": {},
     "output_type": "execute_result"
    }
   ],
   "source": [
    "train"
   ]
  },
  {
   "cell_type": "code",
   "execution_count": 4,
   "id": "f6a9ca5d-2ab7-4370-9977-0cba691bb7e1",
   "metadata": {},
   "outputs": [
    {
     "data": {
      "text/html": [
       "<div>\n",
       "<style scoped>\n",
       "    .dataframe tbody tr th:only-of-type {\n",
       "        vertical-align: middle;\n",
       "    }\n",
       "\n",
       "    .dataframe tbody tr th {\n",
       "        vertical-align: top;\n",
       "    }\n",
       "\n",
       "    .dataframe thead th {\n",
       "        text-align: right;\n",
       "    }\n",
       "</style>\n",
       "<table border=\"1\" class=\"dataframe\">\n",
       "  <thead>\n",
       "    <tr style=\"text-align: right;\">\n",
       "      <th></th>\n",
       "      <th>ID</th>\n",
       "      <th>input</th>\n",
       "    </tr>\n",
       "  </thead>\n",
       "  <tbody>\n",
       "    <tr>\n",
       "      <th>0</th>\n",
       "      <td>TEST_0000</td>\n",
       "      <td>녀뮨넒뭅 만죡숭러윤 효템뤼에오. 푸싸눼 옰면 콕 츄쩐학꼬 싶은 콧쉰웨오. 췌꾜윕뉘댜...</td>\n",
       "    </tr>\n",
       "    <tr>\n",
       "      <th>1</th>\n",
       "      <td>TEST_0001</td>\n",
       "      <td>풀룐투갸 엎코, 좀식또 업읍머, 윌뱐 잎츔민든릿 샤있샤윔엡 위썬 호뗄첨렴 관뤽갉 찰...</td>\n",
       "    </tr>\n",
       "    <tr>\n",
       "      <th>2</th>\n",
       "      <td>TEST_0002</td>\n",
       "      <td>쥔차 붉찐졀행욘. 삶먼섶 멂묽럿턴 혹텔 중웨 쬐약위였습뉜따. 칙어뉜쥐 샤쨩윈쥐 쩨끄...</td>\n",
       "    </tr>\n",
       "    <tr>\n",
       "      <th>3</th>\n",
       "      <td>TEST_0003</td>\n",
       "      <td>붊 맛짚~~ 글련뎨 방움잃 뮈흙퍄녜용. 충칸 쏘움광 팔쿄닛갸 잊중짱임 야뉘럇셧 팜몌...</td>\n",
       "    </tr>\n",
       "    <tr>\n",
       "      <th>4</th>\n",
       "      <td>TEST_0004</td>\n",
       "      <td>빻 샹택는 쥔쨔 폐헐 칙젓뉜테 쩐맣은 죠하욧. 뽀읾럭카 알쥬 찬쟌합꿰 똘앝썬 츄어서...</td>\n",
       "    </tr>\n",
       "    <tr>\n",
       "      <th>...</th>\n",
       "      <td>...</td>\n",
       "      <td>...</td>\n",
       "    </tr>\n",
       "    <tr>\n",
       "      <th>1684</th>\n",
       "      <td>TEST_1684</td>\n",
       "      <td>윌뱐싫 5만언읽교, 쁘륌뮈얾 6만얹짧뤼눈 쓿딸윌려수, 앉먀긷됴 잊곪, PC툐 있찜많...</td>\n",
       "    </tr>\n",
       "    <tr>\n",
       "      <th>1685</th>\n",
       "      <td>TEST_1685</td>\n",
       "      <td>윌탄 빵은 인풉곪, 패닯 음씩은 끎찌였섣 (외인쥔눈 윔뮨..) 륨셔삣술량 초쉭굻료 ...</td>\n",
       "    </tr>\n",
       "    <tr>\n",
       "      <th>1686</th>\n",
       "      <td>TEST_1686</td>\n",
       "      <td>엔많함면 당쒸 앉 옭 옙졍윕닉댜. 겁율 욀뿡윕 있씁뉠단. 싫굘. 익견 머, 콴뤼할 ...</td>\n",
       "    </tr>\n",
       "    <tr>\n",
       "      <th>1687</th>\n",
       "      <td>TEST_1687</td>\n",
       "      <td>돛짝 휴 쿠퀘 깊댓하찔 않앗는델 찌퀀뿐툴입 췬젊핫씩꼬 2빡 멎뭇눈 통얀 멘윌 캑실됴...</td>\n",
       "    </tr>\n",
       "    <tr>\n",
       "      <th>1688</th>\n",
       "      <td>TEST_1688</td>\n",
       "      <td>찐꾸틂윌량 멸띱풂렉쑬륨멧써 툿쑥했는뎨 넒긷됴 넓교 궤읾핥 겯돎 많핫섭 좋얏섧오. 찐...</td>\n",
       "    </tr>\n",
       "  </tbody>\n",
       "</table>\n",
       "<p>1689 rows × 2 columns</p>\n",
       "</div>"
      ],
      "text/plain": [
       "             ID                                              input\n",
       "0     TEST_0000  녀뮨넒뭅 만죡숭러윤 효템뤼에오. 푸싸눼 옰면 콕 츄쩐학꼬 싶은 콧쉰웨오. 췌꾜윕뉘댜...\n",
       "1     TEST_0001  풀룐투갸 엎코, 좀식또 업읍머, 윌뱐 잎츔민든릿 샤있샤윔엡 위썬 호뗄첨렴 관뤽갉 찰...\n",
       "2     TEST_0002  쥔차 붉찐졀행욘. 삶먼섶 멂묽럿턴 혹텔 중웨 쬐약위였습뉜따. 칙어뉜쥐 샤쨩윈쥐 쩨끄...\n",
       "3     TEST_0003  붊 맛짚~~ 글련뎨 방움잃 뮈흙퍄녜용. 충칸 쏘움광 팔쿄닛갸 잊중짱임 야뉘럇셧 팜몌...\n",
       "4     TEST_0004  빻 샹택는 쥔쨔 폐헐 칙젓뉜테 쩐맣은 죠하욧. 뽀읾럭카 알쥬 찬쟌합꿰 똘앝썬 츄어서...\n",
       "...         ...                                                ...\n",
       "1684  TEST_1684  윌뱐싫 5만언읽교, 쁘륌뮈얾 6만얹짧뤼눈 쓿딸윌려수, 앉먀긷됴 잊곪, PC툐 있찜많...\n",
       "1685  TEST_1685  윌탄 빵은 인풉곪, 패닯 음씩은 끎찌였섣 (외인쥔눈 윔뮨..) 륨셔삣술량 초쉭굻료 ...\n",
       "1686  TEST_1686  엔많함면 당쒸 앉 옭 옙졍윕닉댜. 겁율 욀뿡윕 있씁뉠단. 싫굘. 익견 머, 콴뤼할 ...\n",
       "1687  TEST_1687  돛짝 휴 쿠퀘 깊댓하찔 않앗는델 찌퀀뿐툴입 췬젊핫씩꼬 2빡 멎뭇눈 통얀 멘윌 캑실됴...\n",
       "1688  TEST_1688  찐꾸틂윌량 멸띱풂렉쑬륨멧써 툿쑥했는뎨 넒긷됴 넓교 궤읾핥 겯돎 많핫섭 좋얏섧오. 찐...\n",
       "\n",
       "[1689 rows x 2 columns]"
      ]
     },
     "execution_count": 4,
     "metadata": {},
     "output_type": "execute_result"
    }
   ],
   "source": [
    "test"
   ]
  },
  {
   "cell_type": "markdown",
   "id": "fd15a32d-37c3-4c3e-aca1-370d4d9b1a2d",
   "metadata": {},
   "source": [
    "## train dataset의 리뷰 중 가장 긴 리뷰의 길이는 1381, test dataset은 1965"
   ]
  },
  {
   "cell_type": "code",
   "execution_count": 5,
   "id": "856a4efa-e6f4-48fe-969e-db3c74e172cd",
   "metadata": {},
   "outputs": [
    {
     "name": "stdout",
     "output_type": "stream",
     "text": [
      "1381 1381 1965\n"
     ]
    }
   ],
   "source": [
    "train_input_max_length = train['input'].str.len().max()\n",
    "train_output_max_length = train['output'].str.len().max()\n",
    "test_max_length = test['input'].str.len().max()\n",
    "print(train_input_max_length, train_output_max_length, test_max_length)"
   ]
  },
  {
   "cell_type": "code",
   "execution_count": 15,
   "id": "9d6d2c9d-56b3-4e0a-8315-600763240828",
   "metadata": {},
   "outputs": [
    {
     "name": "stdout",
     "output_type": "stream",
     "text": [
      "문자열 길이가 다른 행의 개수:                 ID                                              input  \\\n",
      "69     TRAIN_00069                                        쩡결학꼬 찐절하쉬넥오   \n",
      "94     TRAIN_00094                                 항쌓 옻치많 껙끝햐교 넒뭍 죠항오   \n",
      "124    TRAIN_00124  왠많함먼 귓쨘햐셔 뤼쀼 짤 앉 쓴눈떼, 좋았엇썽 몄 짰 냠거오. 1. 메욺 췬쩔햐쉰...   \n",
      "158    TRAIN_00158                   좋얏셔오. 깔꿈햐굘 야이뜰이 뇰 쑤 잇눈 쑤엉쟝됴 읽서옳.   \n",
      "163    TRAIN_00163  쩍쩔한 끎액엥 쩡결학꼬 친절한 홑텔. 위칟톨 좋핫썽 션멎눼 옮 읽 있수면 젭빵문할 ...   \n",
      "...            ...                                                ...   \n",
      "11188  TRAIN_11188                         부 맡짚위교 고통위 오쭝쥘랴 쟤팡뮨 위싸카 읾숨   \n",
      "11219  TRAIN_11219                                        편힝 쉰댜 갇씁뉘타!   \n",
      "11229  TRAIN_11229                                        맵욱 좋은 쉿썰 쭈쩐   \n",
      "11246  TRAIN_11246                              읽뤽깝펩옘써 읾햐는 쥑건 완쩐 견썽윌네   \n",
      "11251  TRAIN_11251                                췌끄인 긷댜뤼끼 40뷴 넒엌캬눈 중   \n",
      "\n",
      "                                                  output  \n",
      "69                                          청결하고 친절하시네요   \n",
      "94                                   항상 오지만 깨끗하고 너무 좋아요   \n",
      "124    왠만하면 귀찮아서 리뷰 잘 안 쓰는데, 좋았어서 몇 자 남겨요. 1. 매우 친절하신...  \n",
      "158                    좋았어요. 깔끔하고 아이들이 놀 수 있는 수영장도 있어요.   \n",
      "163    적절한 금액에 청결하고 친절한 호텔. 위치도 좋아서 서면에 올 일 있으면 재방문할 ...  \n",
      "...                                                  ...  \n",
      "11188                        뷰 맛집이고 교통의 요충지라 재방문 의사가 있음   \n",
      "11219                                       편히 쉬다 갔습니다!   \n",
      "11229                                       매우 좋은 시설 추천   \n",
      "11246                             일리카페에서 일하는 직원 완전 건성이네   \n",
      "11251                               체크인 기다리기 40분 넘어가는 중   \n",
      "\n",
      "[328 rows x 3 columns]\n"
     ]
    }
   ],
   "source": [
    "mismatch_count = train[train['input'].str.len() != train['output'].str.len()]\n",
    "print(\"문자열 길이가 다른 행의 개수:\", mismatch_count)"
   ]
  },
  {
   "cell_type": "markdown",
   "id": "eeae30c4-dc0d-4930-b4b8-666b59c79d3e",
   "metadata": {},
   "source": [
    "## input과 output의 문자열 개수가 다른 행들은 output의 마지막 문자열이 공백으로 처리되어 있음."
   ]
  },
  {
   "cell_type": "code",
   "execution_count": 20,
   "id": "d285fc29-4afa-44eb-a7de-5710c8edd9bc",
   "metadata": {},
   "outputs": [
    {
     "name": "stdout",
     "output_type": "stream",
     "text": [
      "쩡결학꼬 찐절하쉬넥오\n",
      "--------------------------------------------------\n",
      "청결하고 친절하시네요 \n"
     ]
    }
   ],
   "source": [
    "print(train['input'][69])\n",
    "print('-'*50)\n",
    "print(train['output'][69])"
   ]
  },
  {
   "cell_type": "code",
   "execution_count": 25,
   "id": "d468ea57-aa7d-4521-a23c-9d7597ef5328",
   "metadata": {},
   "outputs": [
    {
     "data": {
      "text/plain": [
       "'항상 오지만 깨끗하고 너무 좋아요 '"
      ]
     },
     "execution_count": 25,
     "metadata": {},
     "output_type": "execute_result"
    }
   ],
   "source": [
    "train['input'][94]\n",
    "\n",
    "train['output'][94]"
   ]
  },
  {
   "cell_type": "code",
   "execution_count": 26,
   "id": "5632a553-9fc4-48f7-ad3b-f7b61aa71380",
   "metadata": {},
   "outputs": [],
   "source": [
    "train['output'] = train['output'].str.rstrip()"
   ]
  },
  {
   "cell_type": "code",
   "execution_count": 29,
   "id": "27cba408-174b-48f9-9b2b-64443adf65af",
   "metadata": {},
   "outputs": [
    {
     "name": "stdout",
     "output_type": "stream",
     "text": [
      "문자열 길이가 다른 행의 개수: 0\n"
     ]
    }
   ],
   "source": [
    "mismatch_count = (train['input'].str.len() != train['output'].str.len()).sum()\n",
    "print(\"문자열 길이가 다른 행의 개수:\", mismatch_count)"
   ]
  },
  {
   "cell_type": "code",
   "execution_count": 31,
   "id": "87d172f0-ffae-431c-976c-250ae5b28256",
   "metadata": {},
   "outputs": [],
   "source": [
    "train.to_csv('./data/train.csv', index=False, encoding='utf-8-sig')"
   ]
  },
  {
   "cell_type": "code",
   "execution_count": 32,
   "id": "c7ddb645-d0df-4f7c-b157-5f877984408e",
   "metadata": {},
   "outputs": [
    {
     "name": "stdout",
     "output_type": "stream",
     "text": [
      "문자열 길이가 다른 행의 개수: 0\n"
     ]
    }
   ],
   "source": [
    "train = pd.read_csv('./data/train.csv', encoding='utf-8-sig')\n",
    "mismatch_count = (train['input'].str.len() != train['output'].str.len()).sum()\n",
    "print(\"문자열 길이가 다른 행의 개수:\", mismatch_count)"
   ]
  },
  {
   "cell_type": "code",
   "execution_count": 38,
   "id": "612ed09d-d16d-4189-b738-9b8b4d07fe3e",
   "metadata": {},
   "outputs": [
    {
     "name": "stdout",
     "output_type": "stream",
     "text": [
      "마지막 문자가 공백인 행의 인덱스: []\n",
      "첫번째 문자가 공백인 행의 인덱스: []\n"
     ]
    }
   ],
   "source": [
    "\n",
    "# 'col1' 열에서 마지막 문자가 공백인 행의 인덱스를 찾기\n",
    "indices_with_spacee = test[test['input'].str.endswith(' ')].index\n",
    "indices_with_spaces = test[test['input'].str.startswith(' ')].index\n",
    "print(\"마지막 문자가 공백인 행의 인덱스:\", indices_with_spacee.tolist())\n",
    "print(\"첫번째 문자가 공백인 행의 인덱스:\", indices_with_spaces.tolist())"
   ]
  },
  {
   "cell_type": "code",
   "execution_count": 3,
   "id": "1f70df74-84d2-4cee-a223-dc370dae87ee",
   "metadata": {},
   "outputs": [
    {
     "name": "stdout",
     "output_type": "stream",
     "text": [
      "가장 많은 토큰 개수: 347\n"
     ]
    }
   ],
   "source": [
    "# 'col1' 열에서 가장 많은 토큰 개수를 가진 행의 토큰 개수\n",
    "max_tokens = train['input'].apply(lambda x: len(x.split())).max()\n",
    "\n",
    "print(\"가장 많은 토큰 개수:\", max_tokens)"
   ]
  },
  {
   "cell_type": "code",
   "execution_count": 4,
   "id": "ac248663-7e81-4f20-8f28-5c7553c03c0b",
   "metadata": {},
   "outputs": [
    {
     "name": "stdout",
     "output_type": "stream",
     "text": [
      "가장 많은 토큰 개수: 513\n"
     ]
    }
   ],
   "source": [
    "# 'col1' 열에서 가장 많은 토큰 개수를 가진 행의 토큰 개수\n",
    "max_tokens = test['input'].apply(lambda x: len(x.split())).max()\n",
    "\n",
    "print(\"가장 많은 토큰 개수:\", max_tokens)"
   ]
  },
  {
   "cell_type": "code",
   "execution_count": null,
   "id": "0fa2e1a0-4d32-45a2-ac5d-d85f85c7b75e",
   "metadata": {},
   "outputs": [],
   "source": []
  }
 ],
 "metadata": {
  "kernelspec": {
   "display_name": "Python 3 (ipykernel)",
   "language": "python",
   "name": "python3"
  },
  "language_info": {
   "codemirror_mode": {
    "name": "ipython",
    "version": 3
   },
   "file_extension": ".py",
   "mimetype": "text/x-python",
   "name": "python",
   "nbconvert_exporter": "python",
   "pygments_lexer": "ipython3",
   "version": "3.12.9"
  }
 },
 "nbformat": 4,
 "nbformat_minor": 5
}
