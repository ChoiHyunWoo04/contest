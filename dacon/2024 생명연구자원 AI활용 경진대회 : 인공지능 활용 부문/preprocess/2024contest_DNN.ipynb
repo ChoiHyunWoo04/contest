{
 "cells": [
  {
   "cell_type": "code",
   "execution_count": null,
   "metadata": {
    "colab": {
     "base_uri": "https://localhost:8080/"
    },
    "id": "5LOnc7JZtQwj",
    "outputId": "7e670877-ac82-4c66-b761-ba98a0a01eec"
   },
   "outputs": [
    {
     "name": "stdout",
     "output_type": "stream",
     "text": [
      "Drive already mounted at /content/drive; to attempt to forcibly remount, call drive.mount(\"/content/drive\", force_remount=True).\n"
     ]
    }
   ],
   "source": [
    "from google.colab import drive\n",
    "drive.mount('/content/drive')"
   ]
  },
  {
   "cell_type": "code",
   "execution_count": 1,
   "metadata": {
    "id": "PypZo6q5tTcL"
   },
   "outputs": [],
   "source": [
    "import torch\n",
    "import torch.nn as nn\n",
    "import torch.optim as optim\n",
    "from torch.utils.data import DataLoader, TensorDataset\n",
    "from sklearn.preprocessing import LabelEncoder\n",
    "import pandas as pd\n",
    "import numpy as np\n",
    "\n",
    "# 데이터 로드\n",
    "train = pd.read_csv('filtering_DATASET.csv') # if data type is mixed : , dtype=str\n",
    "test = pd.read_csv(\"test_with_nan_mean_setting.csv\")"
   ]
  },
  {
   "cell_type": "code",
   "execution_count": 2,
   "metadata": {
    "colab": {
     "base_uri": "https://localhost:8080/"
    },
    "id": "_6prWpdqtTja",
    "outputId": "4a9a0b44-0cc4-44dc-cbc3-a02c49d1bf4a"
   },
   "outputs": [
    {
     "name": "stdout",
     "output_type": "stream",
     "text": [
      "(26,)\n",
      "(43257, 4384)\n",
      "(2546, 4384)\n"
     ]
    }
   ],
   "source": [
    "unique_values = train['SUBCLASS'].unique()\n",
    "print(unique_values.shape)\n",
    "\n",
    "x_train = train.drop(columns=['SUBCLASS', 'ID'])\n",
    "print(x_train.shape)\n",
    "\n",
    "x_test = test.drop(columns=['ID'])\n",
    "print(x_test.shape)\n",
    "\n",
    "# 레이블 인코딩 (26종의 암을 숫자로 변환)\n",
    "y = train['SUBCLASS']   # 암종 라벨\n",
    "label_encoder = LabelEncoder()\n",
    "y = label_encoder.fit_transform(y)"
   ]
  },
  {
   "cell_type": "code",
   "execution_count": 3,
   "metadata": {
    "colab": {
     "base_uri": "https://localhost:8080/",
     "height": 53
    },
    "id": "3k2kexkgLp01",
    "outputId": "0260738d-92a3-4c4f-8115-dc927a12b4bc"
   },
   "outputs": [],
   "source": [
    "x_train = x_train.to_numpy()\n",
    "x_test = x_test.to_numpy()\n",
    "\n",
    "x_train_tensor = torch.tensor(x_train, dtype=torch.float32)\n",
    "y_tensor = torch.tensor(y, dtype=torch.long)\n",
    "x_test_tensor = torch.tensor(x_test, dtype=torch.float32)"
   ]
  },
  {
   "cell_type": "code",
   "execution_count": 4,
   "metadata": {
    "id": "Kiibh7RpLq55"
   },
   "outputs": [],
   "source": [
    "# 데이터셋과 데이터로더 생성\n",
    "train_dataset = TensorDataset(x_train_tensor, y_tensor)\n",
    "train_loader = DataLoader(train_dataset, batch_size=32, shuffle=True)\n",
    "test_dataset = TensorDataset(x_test_tensor)\n",
    "test_loader = DataLoader(test_dataset, batch_size=32, shuffle=False)"
   ]
  },
  {
   "cell_type": "code",
   "execution_count": 5,
   "metadata": {
    "colab": {
     "base_uri": "https://localhost:8080/"
    },
    "id": "vcKnv9hJXbo3",
    "outputId": "c042def7-52de-43e5-c512-f4750ebb9a2a"
   },
   "outputs": [
    {
     "name": "stdout",
     "output_type": "stream",
     "text": [
      "Using device: cuda\n"
     ]
    }
   ],
   "source": [
    "device = torch.device('cuda' if torch.cuda.is_available() else 'cpu')\n",
    "print(f\"Using device: {device}\")"
   ]
  },
  {
   "cell_type": "code",
   "execution_count": 6,
   "metadata": {},
   "outputs": [],
   "source": [
    "# DNN 모델 정의\n",
    "class DNN(nn.Module):\n",
    "    def __init__(self, input_size, num_classes):\n",
    "        super(DNN, self).__init__()\n",
    "        self.fc1 = nn.Linear(input_size, 2048)\n",
    "        self.fc2 = nn.Linear(2048, 1024)\n",
    "        self.fc3 = nn.Linear(1024, 512)\n",
    "        self.fc4 = nn.Linear(512, num_classes)\n",
    "        self.dropout = nn.Dropout(0.3)\n",
    "        self.relu = nn.ReLU()\n",
    "        self.softmax = nn.Softmax(dim=1)\n",
    "\n",
    "    def forward(self, x):\n",
    "        x = self.relu(self.fc1(x))\n",
    "        x = self.dropout(x)\n",
    "        x = self.relu(self.fc2(x))\n",
    "        x = self.dropout(x)\n",
    "        x = self.relu(self.fc3(x))\n",
    "        x = self.fc4(x)\n",
    "        return x\n",
    "\n",
    "# 하이퍼파라미터 설정\n",
    "input_size = x_train.shape[1]  # 입력 피처 수\n",
    "num_classes = len(np.unique(y))  # 클래스 수\n",
    "learning_rate = 0.001\n",
    "num_epochs = 70"
   ]
  },
  {
   "cell_type": "code",
   "execution_count": 7,
   "metadata": {
    "colab": {
     "base_uri": "https://localhost:8080/"
    },
    "id": "z-9Injp5tTuE",
    "outputId": "bffa03c3-025c-4727-cda4-5c41f531cd61"
   },
   "outputs": [
    {
     "name": "stdout",
     "output_type": "stream",
     "text": [
      "Epoch [1/70], Loss: 1.6433, Accuracy: 47.06%\n",
      "Epoch [2/70], Loss: 1.1621, Accuracy: 68.95%\n",
      "Epoch [3/70], Loss: 1.0395, Accuracy: 79.15%\n",
      "Epoch [4/70], Loss: 0.3309, Accuracy: 83.74%\n",
      "Epoch [5/70], Loss: 0.4645, Accuracy: 86.15%\n",
      "Epoch [6/70], Loss: 0.0791, Accuracy: 88.02%\n",
      "Epoch [7/70], Loss: 0.2772, Accuracy: 89.07%\n",
      "Epoch [8/70], Loss: 0.0973, Accuracy: 89.84%\n",
      "Epoch [9/70], Loss: 0.3038, Accuracy: 90.65%\n",
      "Epoch [10/70], Loss: 0.1897, Accuracy: 90.88%\n",
      "Epoch [11/70], Loss: 0.2623, Accuracy: 91.17%\n",
      "Epoch [12/70], Loss: 0.3587, Accuracy: 91.46%\n",
      "Epoch [13/70], Loss: 0.3103, Accuracy: 91.74%\n",
      "Epoch [14/70], Loss: 0.4032, Accuracy: 91.86%\n",
      "Epoch [15/70], Loss: 0.2862, Accuracy: 91.99%\n",
      "Epoch [16/70], Loss: 0.2438, Accuracy: 92.13%\n",
      "Epoch [17/70], Loss: 0.0499, Accuracy: 92.25%\n",
      "Epoch [18/70], Loss: 0.2028, Accuracy: 92.25%\n",
      "Epoch [19/70], Loss: 0.4508, Accuracy: 92.36%\n",
      "Epoch [20/70], Loss: 0.3628, Accuracy: 92.32%\n",
      "Epoch [21/70], Loss: 0.1422, Accuracy: 92.44%\n",
      "Epoch [22/70], Loss: 0.2495, Accuracy: 92.48%\n",
      "Epoch [23/70], Loss: 0.1072, Accuracy: 92.46%\n",
      "Epoch [24/70], Loss: 0.1599, Accuracy: 92.55%\n",
      "Epoch [25/70], Loss: 0.0773, Accuracy: 92.58%\n",
      "Epoch [26/70], Loss: 0.2589, Accuracy: 92.54%\n",
      "Epoch [27/70], Loss: 0.1522, Accuracy: 92.74%\n",
      "Epoch [28/70], Loss: 0.1697, Accuracy: 92.67%\n",
      "Epoch [29/70], Loss: 0.1306, Accuracy: 92.70%\n",
      "Epoch [30/70], Loss: 0.1428, Accuracy: 92.63%\n",
      "Epoch [31/70], Loss: 0.0456, Accuracy: 92.60%\n",
      "Epoch [32/70], Loss: 0.2287, Accuracy: 92.65%\n",
      "Epoch [33/70], Loss: 0.5299, Accuracy: 92.69%\n",
      "Epoch [34/70], Loss: 0.1874, Accuracy: 92.70%\n",
      "Epoch [35/70], Loss: 0.1417, Accuracy: 92.83%\n",
      "Epoch [36/70], Loss: 0.0599, Accuracy: 92.76%\n",
      "Epoch [37/70], Loss: 0.7939, Accuracy: 92.82%\n",
      "Epoch [38/70], Loss: 0.2203, Accuracy: 92.84%\n",
      "Epoch [39/70], Loss: 0.1540, Accuracy: 92.82%\n",
      "Epoch [40/70], Loss: 0.0865, Accuracy: 92.84%\n",
      "Epoch [41/70], Loss: 0.2967, Accuracy: 92.88%\n",
      "Epoch [42/70], Loss: 0.1984, Accuracy: 92.84%\n",
      "Epoch [43/70], Loss: 0.1679, Accuracy: 92.81%\n",
      "Epoch [44/70], Loss: 0.1675, Accuracy: 92.85%\n",
      "Epoch [45/70], Loss: 0.0536, Accuracy: 92.88%\n",
      "Epoch [46/70], Loss: 0.0201, Accuracy: 92.90%\n",
      "Epoch [47/70], Loss: 0.3747, Accuracy: 92.91%\n",
      "Epoch [48/70], Loss: 0.0016, Accuracy: 92.96%\n",
      "Epoch [49/70], Loss: 0.2144, Accuracy: 92.88%\n",
      "Epoch [50/70], Loss: 0.0751, Accuracy: 92.90%\n",
      "Epoch [51/70], Loss: 0.1989, Accuracy: 92.88%\n",
      "Epoch [52/70], Loss: 0.1271, Accuracy: 92.90%\n",
      "Epoch [53/70], Loss: 0.1954, Accuracy: 92.94%\n",
      "Epoch [54/70], Loss: 0.2515, Accuracy: 92.91%\n",
      "Epoch [55/70], Loss: 0.1679, Accuracy: 92.86%\n",
      "Epoch [56/70], Loss: 0.1572, Accuracy: 92.91%\n",
      "Epoch [57/70], Loss: 0.1607, Accuracy: 92.94%\n",
      "Epoch [58/70], Loss: 0.1227, Accuracy: 92.84%\n",
      "Epoch [59/70], Loss: 0.1779, Accuracy: 92.91%\n",
      "Epoch [60/70], Loss: 0.2721, Accuracy: 92.91%\n",
      "Epoch [61/70], Loss: 0.4758, Accuracy: 92.96%\n",
      "Epoch [62/70], Loss: 0.3729, Accuracy: 93.05%\n",
      "Early stopping triggered after 62 epochs.\n"
     ]
    }
   ],
   "source": [
    "#weight_decay = 1e-5  # L2 정규화 (weight decay)\n",
    "\n",
    "# 모델, 손실 함수, 옵티마이저 정의\n",
    "model = DNN(input_size, num_classes).to(device)\n",
    "\n",
    "criterion = nn.CrossEntropyLoss()\n",
    "optimizer = optim.Adam(model.parameters(), lr=learning_rate) # , weight_decay=weight_decay\n",
    "scheduler = torch.optim.lr_scheduler.ExponentialLR(optimizer, gamma=0.9)\n",
    "\n",
    "# early stop & acc visualization setting\n",
    "best_loss = float('inf')\n",
    "early_stop_counter = 0\n",
    "patience = 5\n",
    "loss_list = []\n",
    "acc_list = []\n",
    "\n",
    "# 모델 학습\n",
    "model.train()\n",
    "for epoch in range(num_epochs):\n",
    "    correct_total = 0\n",
    "    n_iter = 0\n",
    "    loss_total = 0.0\n",
    "\n",
    "    for inputs, labels in train_loader:\n",
    "\n",
    "        inputs, labels = inputs.to(device), labels.to(device)\n",
    "        # 옵티마이저 초기화\n",
    "        optimizer.zero_grad()\n",
    "\n",
    "        # 순전파\n",
    "        outputs = model(inputs)\n",
    "        loss = criterion(outputs, labels)\n",
    "\n",
    "        # 역전파 및 최적화\n",
    "        loss.backward()\n",
    "        optimizer.step()\n",
    "\n",
    "        loss_total += loss.item()\n",
    "        pred = outputs.argmax(dim=-1)\n",
    "        correct_total += pred.eq(labels).sum().item()\n",
    "        n_iter += 1\n",
    "\n",
    "    epoch_loss = loss_total / n_iter\n",
    "    epoch_acc = correct_total / len(x_train) * 100\n",
    "\n",
    "    loss_list.append(epoch_loss)\n",
    "    acc_list.append(epoch_acc)\n",
    "\n",
    "    print(f'Epoch [{epoch+1}/{num_epochs}], Loss: {loss.item():.4f}, Accuracy: {epoch_acc:.2f}%')\n",
    "    \n",
    "    # 학습률 스케줄러 업데이트\n",
    "    scheduler.step()\n",
    "    \n",
    "    if epoch_loss < best_loss:\n",
    "        best_loss = epoch_loss\n",
    "        early_stop_counter = 0\n",
    "    else:\n",
    "        early_stop_counter += 1\n",
    "\n",
    "    if early_stop_counter >= patience:\n",
    "        print(f\"Early stopping triggered after {epoch+1} epochs.\")\n",
    "        break"
   ]
  },
  {
   "cell_type": "code",
   "execution_count": 28,
   "metadata": {
    "id": "0-6LxoyucjOM"
   },
   "outputs": [],
   "source": [
    "# Save the model's state dictionary (parameters)\n",
    "torch.save(model.state_dict(), './DNN_model_weights.pth')"
   ]
  },
  {
   "cell_type": "code",
   "execution_count": 8,
   "metadata": {
    "colab": {
     "base_uri": "https://localhost:8080/",
     "height": 331
    },
    "id": "lpCrws2SErKd",
    "outputId": "f0baf1a3-7ee6-49ac-da10-c97853f9cbad"
   },
   "outputs": [
    {
     "data": {
      "image/png": "[encoded data removed]",
      "text/plain": [
       "<Figure size 1200x500 with 2 Axes>"
      ]
     },
     "metadata": {},
     "output_type": "display_data"
    }
   ],
   "source": [
    "import matplotlib.pyplot as plt\n",
    "\n",
    "# 학습 손실 및 정확도 시각화\n",
    "epochs = range(1, len(loss_list) + 1)\n",
    "plt.figure(figsize=(12, 5))\n",
    "\n",
    "plt.subplot(1, 2, 1)\n",
    "plt.plot(epochs, loss_list, 'bo-', label='Training Loss')\n",
    "plt.title('Training Loss per Epoch')\n",
    "plt.xlabel('Epochs')\n",
    "plt.ylabel('Loss')\n",
    "plt.legend()\n",
    "\n",
    "plt.subplot(1, 2, 2)\n",
    "plt.plot(epochs, acc_list, 'go-', label='Training Accuracy')\n",
    "plt.title('Training Accuracy per Epoch')\n",
    "plt.xlabel('Epochs')\n",
    "plt.ylabel('Accuracy')\n",
    "plt.legend()\n",
    "\n",
    "plt.show()"
   ]
  },
  {
   "cell_type": "code",
   "execution_count": 9,
   "metadata": {
    "colab": {
     "base_uri": "https://localhost:8080/",
     "height": 445
    },
    "id": "pzA7Sye3tTwz",
    "outputId": "a6d3b61f-a9f8-428e-ab64-5919bd8d5faa"
   },
   "outputs": [
    {
     "name": "stdout",
     "output_type": "stream",
     "text": [
      "SUBCLASS\n",
      "BRCA      307\n",
      "COAD      269\n",
      "STES      246\n",
      "GBMLGG    180\n",
      "KIPAN     162\n",
      "LUAD      143\n",
      "KIRC      130\n",
      "SKCM      128\n",
      "LIHC      109\n",
      "THCA       99\n",
      "HNSC       99\n",
      "OV         84\n",
      "PAAD       77\n",
      "PRAD       70\n",
      "SARC       64\n",
      "LGG        57\n",
      "CESC       57\n",
      "BLCA       55\n",
      "UCEC       55\n",
      "LAML       39\n",
      "TGCT       29\n",
      "PCPG       26\n",
      "LUSC       21\n",
      "THYM       17\n",
      "ACC        13\n",
      "DLBC       10\n",
      "Name: count, dtype: int64\n",
      "(26,)\n",
      "Submission file saved as 'submission.csv'\n"
     ]
    }
   ],
   "source": [
    "import torch\n",
    "\n",
    "# 모델 평가\n",
    "model.eval()\n",
    "predictions = []\n",
    "\n",
    "# 예측 수행\n",
    "with torch.no_grad():\n",
    "    for inputs in test_loader:\n",
    "        inputs = inputs[0].to(device)\n",
    "        outputs = model(inputs)\n",
    "        _, predicted = torch.max(outputs, 1)  # 각 샘플의 최대 확률을 가진 클래스 예측\n",
    "        predictions.extend(predicted.cpu().numpy())  # predicted 값을 리스트에 추가\n",
    "\n",
    "# predictions 리스트는 라벨 인코딩 된 클래스 값으로 변환\n",
    "original_labels = label_encoder.inverse_transform(predictions)\n",
    "\n",
    "# 샘플 제출 파일 로드\n",
    "submission = pd.read_csv(\"./sample_submission.csv\")\n",
    "\n",
    "# 'SUBCLASS' 열에 예측된 레이블 추가\n",
    "submission[\"SUBCLASS\"] = original_labels\n",
    "\n",
    "# 제출 파일 저장\n",
    "submission.to_csv('./submission/filteringDATASET_nan.csv', encoding='UTF-8-sig', index=False)\n",
    "\n",
    "unique_values = submission['SUBCLASS'].value_counts()\n",
    "print(unique_values)\n",
    "print(unique_values.shape)\n",
    "\n",
    "print(\"Submission file saved as 'submission.csv'\")"
   ]
  },
  {
   "cell_type": "code",
   "execution_count": null,
   "metadata": {},
   "outputs": [],
   "source": []
  }
 ],
 "metadata": {
  "accelerator": "GPU",
  "colab": {
   "gpuType": "T4",
   "provenance": []
  },
  "kernelspec": {
   "display_name": "Python 3 (ipykernel)",
   "language": "python",
   "name": "python3"
  },
  "language_info": {
   "codemirror_mode": {
    "name": "ipython",
    "version": 3
   },
   "file_extension": ".py",
   "mimetype": "text/x-python",
   "name": "python",
   "nbconvert_exporter": "python",
   "pygments_lexer": "ipython3",
   "version": "3.11.5"
  }
 },
 "nbformat": 4,
 "nbformat_minor": 4
}
